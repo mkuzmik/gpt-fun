{
 "cells": [
  {
   "cell_type": "code",
   "execution_count": 20,
   "id": "590039c6-84e3-481f-9d6c-eb6627b8529f",
   "metadata": {},
   "outputs": [],
   "source": [
    "from transformers import pipeline, set_seed\n",
    "generator_gpt_1 = pipeline('text-generation', model='openai-gpt')\n",
    "generator_gpt_2 = pipeline('text-generation', model='gpt2-xl')\n",
    "set_seed(42)"
   ]
  },
  {
   "cell_type": "code",
   "execution_count": 44,
   "id": "ff941922-d813-4eb3-a57c-035022567849",
   "metadata": {},
   "outputs": [
    {
     "name": "stderr",
     "output_type": "stream",
     "text": [
      "Setting `pad_token_id` to `eos_token_id`:None for open-end generation.\n"
     ]
    },
    {
     "name": "stdout",
     "output_type": "stream",
     "text": [
      "\n",
      "You are an AI assistant. Answer questions politely and helpfully.\n",
      "\n",
      "User: Hey, what is the result of 2 + 3?\n",
      "AI: The result of 2 + 3 is 5.\n",
      "User: Can you explain how you got that?\n",
      "AI:\n",
      "\n",
      "My method for generating correct and intuitive answers is a hybrid of natural language processing and machine learning. Since I only use computer scientists in my field of study, I'm fairly comfortable with working with computers, and I only\n"
     ]
    }
   ],
   "source": [
    "def generate(prompt, generator):\n",
    "    generated_text = generator(prompt, max_length=100)[0]['generated_text']\n",
    "    print(generated_text)\n",
    "\n",
    "prompt = \"\"\"\n",
    "You are an AI assistant. Answer questions politely and helpfully.\n",
    "\n",
    "User: Hey, what is the result of 2 + 3?\n",
    "AI: The result of 2 + 3 is 5.\n",
    "User: Can you explain how you got that?\n",
    "AI:\n",
    "\"\"\"\n",
    "\n",
    "generate(prompt, generator_gpt_2)"
   ]
  },
  {
   "cell_type": "code",
   "execution_count": 39,
   "id": "18645145-cf1c-4cf5-a2b4-1e423388f2d0",
   "metadata": {},
   "outputs": [
    {
     "name": "stdout",
     "output_type": "stream",
     "text": [
      "\n",
      "User: Hey, what is the result of 2 + 3?\n",
      "Assistant: The result of 2 + 3 is 5.\n",
      "User: Can you explain how you got that?\n",
      "Assistant:\n",
      " all that? 3 + 5 ( or + 3 = 0 + 2 = 4 = 2 = 4 = 5 = 2 = 5 = 3 = 10 = 4 = 2 = 0 = 0 + 3 = 3 = 3 = 1 = 2 = one = 2 \n",
      " \" wow, that's really good. thanks, \"\n"
     ]
    }
   ],
   "source": [
    "generate(prompt, generator_gpt_1)"
   ]
  }
 ],
 "metadata": {
  "kernelspec": {
   "display_name": "Python 3 (ipykernel)",
   "language": "python",
   "name": "python3"
  },
  "language_info": {
   "codemirror_mode": {
    "name": "ipython",
    "version": 3
   },
   "file_extension": ".py",
   "mimetype": "text/x-python",
   "name": "python",
   "nbconvert_exporter": "python",
   "pygments_lexer": "ipython3",
   "version": "3.11.10"
  }
 },
 "nbformat": 4,
 "nbformat_minor": 5
}
