{
 "cells": [
  {
   "cell_type": "code",
   "execution_count": 34,
   "id": "eec69a89-5ddb-46e2-8d2e-5fda9d632a08",
   "metadata": {},
   "outputs": [],
   "source": [
    "from transformers import AutoModelForCausalLM, AutoTokenizer\n",
    "\n",
    "llama1B = \"meta-llama/Llama-3.2-1B\"\n",
    "llama1BInstruct = \"meta-llama/Llama-3.2-1B-Instruct\"\n",
    "gpt2 = 'gpt2-xl'\n",
    "\n",
    "model = llama1B\n",
    "tokenizer = AutoTokenizer.from_pretrained(model)\n",
    "model = AutoModelForCausalLM.from_pretrained(model)"
   ]
  },
  {
   "cell_type": "code",
   "execution_count": 35,
   "id": "7ff54be9-4522-49a8-a93e-794c92d76189",
   "metadata": {},
   "outputs": [
    {
     "data": {
      "text/plain": [
       "{'input_ids': tensor([[128000,    198,     27,   2527,  56023,    397,  17077,     25,  38840,\n",
       "            279,   2768,  11914,   1139,   8753,    512,   2566,     25,    578,\n",
       "           8415,    374,  11961,    389,    279,   5634,    627]]), 'attention_mask': tensor([[1, 1, 1, 1, 1, 1, 1, 1, 1, 1, 1, 1, 1, 1, 1, 1, 1, 1, 1, 1, 1, 1, 1, 1,\n",
       "         1]])}"
      ]
     },
     "execution_count": 35,
     "metadata": {},
     "output_type": "execute_result"
    }
   ],
   "source": [
    "# Example input\n",
    "prompt = \"\"\"\n",
    "<start_instruction>\n",
    "Instruction: Translate the following sentence into French:\n",
    "Input: The cat is sitting on the mat.\n",
    "\"\"\"\n",
    "\n",
    "# Tokenize input\n",
    "inputs = tokenizer(prompt, return_tensors=\"pt\")\n",
    "inputs"
   ]
  },
  {
   "cell_type": "code",
   "execution_count": 36,
   "id": "74e4716e-19af-403a-a1b8-e52b487c1973",
   "metadata": {},
   "outputs": [
    {
     "name": "stderr",
     "output_type": "stream",
     "text": [
      "The attention mask and the pad token id were not set. As a consequence, you may observe unexpected behavior. Please pass your input's `attention_mask` to obtain reliable results.\n",
      "Setting `pad_token_id` to `eos_token_id`:None for open-end generation.\n"
     ]
    },
    {
     "data": {
      "text/plain": [
       "tensor([[128000,    198,     27,   2527,  56023,    397,  17077,     25,  38840,\n",
       "            279,   2768,  11914,   1139,   8753,    512,   2566,     25,    578,\n",
       "           8415,    374,  11961,    389,    279,   5634,    627,   5207,     25,\n",
       "           2009,   6369,   1826,   1089,    285,   1765,    514,   5634,    382,\n",
       "            791,   8415,    374,  11961,    389,    279,   5634,    627,    791,\n",
       "           8415,    374,  11961,    389,    279]])"
      ]
     },
     "execution_count": 36,
     "metadata": {},
     "output_type": "execute_result"
    }
   ],
   "source": [
    "# Generate response\n",
    "outputs = model.generate(inputs[\"input_ids\"], max_length=50)\n",
    "outputs"
   ]
  },
  {
   "cell_type": "code",
   "execution_count": 37,
   "id": "2432931f-00c8-46c1-a2d6-93e868db63d7",
   "metadata": {},
   "outputs": [
    {
     "name": "stdout",
     "output_type": "stream",
     "text": [
      "Generated text: <|begin_of_text|>\n",
      "<start_instruction>\n",
      "Instruction: Translate the following sentence into French:\n",
      "Input: The cat is sitting on the mat.\n",
      "Output: Le chat est assis sur le mat.\n",
      "\n",
      "The cat is sitting on the mat.\n",
      "The cat is sitting on the\n"
     ]
    }
   ],
   "source": [
    "# Decode and print the generated text\n",
    "generated_text = tokenizer.decode(outputs[0])\n",
    "print(\"Generated text:\", generated_text)"
   ]
  }
 ],
 "metadata": {
  "kernelspec": {
   "display_name": "Python 3 (ipykernel)",
   "language": "python",
   "name": "python3"
  },
  "language_info": {
   "codemirror_mode": {
    "name": "ipython",
    "version": 3
   },
   "file_extension": ".py",
   "mimetype": "text/x-python",
   "name": "python",
   "nbconvert_exporter": "python",
   "pygments_lexer": "ipython3",
   "version": "3.11.10"
  }
 },
 "nbformat": 4,
 "nbformat_minor": 5
}
