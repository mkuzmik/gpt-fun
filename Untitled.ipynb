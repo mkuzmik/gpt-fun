{
 "cells": [
  {
   "cell_type": "code",
   "execution_count": 2,
   "id": "3844437a-4a90-46a4-80f6-4c19c5270d32",
   "metadata": {},
   "outputs": [
    {
     "name": "stderr",
     "output_type": "stream",
     "text": [
      "The attention mask and the pad token id were not set. As a consequence, you may observe unexpected behavior. Please pass your input's `attention_mask` to obtain reliable results.\n",
      "Setting `pad_token_id` to `eos_token_id`:None for open-end generation.\n"
     ]
    },
    {
     "name": "stdout",
     "output_type": "stream",
     "text": [
      "Top 10 Most Probable Tokens:\n",
      "Token: ',', Probability: 0.4269\n",
      "Token: ' the', Probability: 0.0646\n",
      "Token: ' I', Probability: 0.0406\n",
      "Token: ' he', Probability: 0.0369\n",
      "Token: ' there', Probability: 0.0294\n",
      "Token: ' in', Probability: 0.0276\n",
      "Token: ' it', Probability: 0.0234\n",
      "Token: ' when', Probability: 0.0229\n",
      "Token: ' of', Probability: 0.0227\n",
      "Token: ' they', Probability: 0.0175\n"
     ]
    }
   ],
   "source": [
    "import torch\n",
    "from transformers import AutoModelForCausalLM, AutoTokenizer\n",
    "import torch.nn.functional as F\n",
    "\n",
    "# Load the model and tokenizer\n",
    "model_name = \"gpt2\"  # or any other model from Hugging Face\n",
    "tokenizer = AutoTokenizer.from_pretrained(model_name)\n",
    "model = AutoModelForCausalLM.from_pretrained(model_name)\n",
    "\n",
    "# Set the model to evaluation mode\n",
    "model.eval()\n",
    "\n",
    "# Encode input text\n",
    "input_text = \"Once upon a time\"\n",
    "input_ids = tokenizer.encode(input_text, return_tensors='pt')\n",
    "\n",
    "# Generate one extra token\n",
    "with torch.no_grad():  # Disable gradient calculation\n",
    "    output = model.generate(input_ids, max_length=input_ids.shape[1] + 1, return_dict_in_generate=True, output_scores=True)\n",
    "\n",
    "# Get the generated token ID and logits\n",
    "generated_ids = output.sequences[0]\n",
    "logits = output.scores[-1]  # Get logits for the last generated token\n",
    "\n",
    "# Calculate probabilities using softmax\n",
    "probabilities = F.softmax(logits, dim=-1)\n",
    "\n",
    "# Get the top 10 most probable tokens\n",
    "top_k = 10\n",
    "top_probabilities, top_indices = torch.topk(probabilities, top_k)\n",
    "\n",
    "# Print the top tokens and their probabilities\n",
    "print(\"Top 10 Most Probable Tokens:\")\n",
    "for i in range(top_k):\n",
    "    token_id = top_indices[0][i].item()\n",
    "    token = tokenizer.decode(token_id)\n",
    "    probability = top_probabilities[0][i].item()\n",
    "    print(f\"Token: '{token}', Probability: {probability:.4f}\")"
   ]
  }
 ],
 "metadata": {
  "kernelspec": {
   "display_name": "Python 3 (ipykernel)",
   "language": "python",
   "name": "python3"
  },
  "language_info": {
   "codemirror_mode": {
    "name": "ipython",
    "version": 3
   },
   "file_extension": ".py",
   "mimetype": "text/x-python",
   "name": "python",
   "nbconvert_exporter": "python",
   "pygments_lexer": "ipython3",
   "version": "3.11.10"
  }
 },
 "nbformat": 4,
 "nbformat_minor": 5
}
