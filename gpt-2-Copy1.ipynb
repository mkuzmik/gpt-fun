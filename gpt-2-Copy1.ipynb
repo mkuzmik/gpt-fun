{
 "cells": [
  {
   "cell_type": "code",
   "execution_count": 5,
   "id": "590039c6-84e3-481f-9d6c-eb6627b8529f",
   "metadata": {},
   "outputs": [
    {
     "name": "stderr",
     "output_type": "stream",
     "text": [
      "huggingface/tokenizers: The current process just got forked, after parallelism has already been used. Disabling parallelism to avoid deadlocks...\n",
      "To disable this warning, you can either:\n",
      "\t- Avoid using `tokenizers` before the fork if possible\n",
      "\t- Explicitly set the environment variable TOKENIZERS_PARALLELISM=(true | false)\n"
     ]
    }
   ],
   "source": [
    "from transformers import AutoModelForCausalLM, AutoTokenizer\n",
    "\n",
    "model = AutoModelForCausalLM.from_pretrained(\"Arjun-G-Ravi/chat-GPT2\")\n",
    "tokenizer = AutoTokenizer.from_pretrained(\"Arjun-G-Ravi/chat-GPT2\")"
   ]
  },
  {
   "cell_type": "code",
   "execution_count": 20,
   "id": "ff941922-d813-4eb3-a57c-035022567849",
   "metadata": {},
   "outputs": [
    {
     "name": "stdout",
     "output_type": "stream",
     "text": [
      "tensor([[17006,    12,    38, 11571,    17,    25,  4149,   262,  1808,   290,\n",
      "          1577,   281,  5508,  3280,    13,   198, 24361,    25,  1867,   338,\n",
      "           262,  3139,   286,  4881,    30]])\n",
      "tensor([[17006,    12,    38, 11571,    17,    25,  4149,   262,  1808,   290,\n",
      "          1577,   281,  5508,  3280,    13,   198, 24361,    25,  1867,   338,\n",
      "           262,  3139,   286,  4881,    30, 23998,    25,   383,  3139,   286,\n",
      "          4881,   318,  6342,    13,    59,    77, 50258]])\n",
      "chat-GPT2: Read the question and give an honest answer.\n",
      "Question: What's the capital of France? Answer: The capital of France is Paris.\\n<|pad|>\n"
     ]
    }
   ],
   "source": [
    "# chat gpt 2\n",
    "\n",
    "prompt = \"\"\"chat-GPT2: Read the question and give an honest answer.\n",
    "Question: What's the capital of France?\"\"\"\n",
    "\n",
    "input_ids = tokenizer(prompt, return_tensors=\"pt\").input_ids\n",
    "\n",
    "print(input_ids)\n",
    "\n",
    "gen_tokens = model.generate(\n",
    "    input_ids,\n",
    "    max_length=50,\n",
    "    pad_token_id=50258,\n",
    "    eos_token_id=50258\n",
    ")\n",
    "\n",
    "print(gen_tokens)\n",
    "\n",
    "print(tokenizer.batch_decode(gen_tokens)[0])"
   ]
  }
 ],
 "metadata": {
  "kernelspec": {
   "display_name": "Python 3 (ipykernel)",
   "language": "python",
   "name": "python3"
  },
  "language_info": {
   "codemirror_mode": {
    "name": "ipython",
    "version": 3
   },
   "file_extension": ".py",
   "mimetype": "text/x-python",
   "name": "python",
   "nbconvert_exporter": "python",
   "pygments_lexer": "ipython3",
   "version": "3.11.10"
  }
 },
 "nbformat": 4,
 "nbformat_minor": 5
}
