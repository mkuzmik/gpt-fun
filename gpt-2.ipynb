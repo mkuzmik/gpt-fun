{
 "cells": [
  {
   "cell_type": "code",
   "execution_count": 3,
   "id": "590039c6-84e3-481f-9d6c-eb6627b8529f",
   "metadata": {},
   "outputs": [],
   "source": [
    "from transformers import AutoModelForCausalLM, AutoTokenizer\n",
    "\n",
    "model = AutoModelForCausalLM.from_pretrained(\"gpt2\")\n",
    "tokenizer = AutoTokenizer.from_pretrained(\"gpt2\")"
   ]
  },
  {
   "cell_type": "code",
   "execution_count": 11,
   "id": "ff941922-d813-4eb3-a57c-035022567849",
   "metadata": {},
   "outputs": [
    {
     "name": "stdout",
     "output_type": "stream",
     "text": [
      "tensor([[ 464, 3139,  286, 4881,  318]])\n",
      "tensor([[ 464, 3139,  286, 4881,  318,  262, 3139,  286,  262, 4141, 2066,   11,\n",
      "          290,  262, 3139,  286,  262, 4141, 2066,  318,  262, 3139,  286,  262,\n",
      "         4141, 2066,   13,  198,  198,  464, 4141, 2066,  318,  262, 3139,  286,\n",
      "          262, 4141, 2066,   13,  198,  198,  464, 4141, 2066,  318,  262, 3139,\n",
      "          286,  262]])\n",
      "The capital of France is the capital of the French Republic, and the capital of the French Republic is the capital of the French Republic.\n",
      "\n",
      "The French Republic is the capital of the French Republic.\n",
      "\n",
      "The French Republic is the capital of the\n"
     ]
    }
   ],
   "source": [
    "# GPT-2 is a plain, not fine-tuned model\n",
    "\n",
    "prompt = \"\"\"The capital of France is\"\"\"\n",
    "\n",
    "input_ids = tokenizer(prompt, return_tensors=\"pt\").input_ids\n",
    "\n",
    "print(input_ids)\n",
    "\n",
    "gen_tokens = model.generate(\n",
    "    input_ids,\n",
    "    max_length=50,\n",
    "    pad_token_id=50258,\n",
    "    eos_token_id=50258\n",
    ")\n",
    "\n",
    "print(gen_tokens)\n",
    "\n",
    "print(tokenizer.batch_decode(gen_tokens)[0])"
   ]
  }
 ],
 "metadata": {
  "kernelspec": {
   "display_name": "Python 3 (ipykernel)",
   "language": "python",
   "name": "python3"
  },
  "language_info": {
   "codemirror_mode": {
    "name": "ipython",
    "version": 3
   },
   "file_extension": ".py",
   "mimetype": "text/x-python",
   "name": "python",
   "nbconvert_exporter": "python",
   "pygments_lexer": "ipython3",
   "version": "3.11.10"
  }
 },
 "nbformat": 4,
 "nbformat_minor": 5
}
