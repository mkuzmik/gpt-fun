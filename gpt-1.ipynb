{
 "cells": [
  {
   "cell_type": "code",
   "execution_count": 1,
   "id": "590039c6-84e3-481f-9d6c-eb6627b8529f",
   "metadata": {},
   "outputs": [
    {
     "name": "stderr",
     "output_type": "stream",
     "text": [
      "/Users/mat/Library/Caches/pypoetry/virtualenvs/gpt-fun-vrW_0cv8-py3.11/lib/python3.11/site-packages/tqdm/auto.py:21: TqdmWarning: IProgress not found. Please update jupyter and ipywidgets. See https://ipywidgets.readthedocs.io/en/stable/user_install.html\n",
      "  from .autonotebook import tqdm as notebook_tqdm\n"
     ]
    }
   ],
   "source": [
    "from transformers import pipeline, set_seed\n",
    "generator_gpt_1 = pipeline('text-generation', model='openai-gpt')\n",
    "set_seed(42)"
   ]
  },
  {
   "cell_type": "code",
   "execution_count": 4,
   "id": "ff941922-d813-4eb3-a57c-035022567849",
   "metadata": {},
   "outputs": [
    {
     "name": "stdout",
     "output_type": "stream",
     "text": [
      "The Cessna 172 Skyhawk is an American four-seat, single-engine, high wing, fixed-wing aircraft made by the united states navy. his name is john, john preston, and he is a senior vice president of the space agency, the military intelligence agency in nevada. \n",
      " the two aircraft are the best of friends. preston told me many years ago that he enjoyed working with his ex - wife for hours on end in bed. his marriage had lasted six years before he met her\n"
     ]
    }
   ],
   "source": [
    "def generate(prompt, generator):\n",
    "    generated_text = generator(prompt, max_length=50)[0]['generated_text']\n",
    "    print(generated_text)\n",
    "\n",
    "prompt = \"The Cessna 172 Skyhawk is an American four-seat, single-engine, high wing, fixed-wing aircraft made by\"\n",
    "\n",
    "generate(prompt, generator_gpt_1)"
   ]
  }
 ],
 "metadata": {
  "kernelspec": {
   "display_name": "Python 3 (ipykernel)",
   "language": "python",
   "name": "python3"
  },
  "language_info": {
   "codemirror_mode": {
    "name": "ipython",
    "version": 3
   },
   "file_extension": ".py",
   "mimetype": "text/x-python",
   "name": "python",
   "nbconvert_exporter": "python",
   "pygments_lexer": "ipython3",
   "version": "3.11.10"
  }
 },
 "nbformat": 4,
 "nbformat_minor": 5
}
