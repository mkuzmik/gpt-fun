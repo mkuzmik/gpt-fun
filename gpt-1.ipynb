{
 "cells": [
  {
   "cell_type": "code",
   "execution_count": 43,
   "id": "590039c6-84e3-481f-9d6c-eb6627b8529f",
   "metadata": {},
   "outputs": [],
   "source": [
    "from transformers import pipeline, set_seed\n",
    "generator_gpt_1 = pipeline('text-generation', model='openai-gpt', device=0)\n",
    "set_seed(42)"
   ]
  },
  {
   "cell_type": "code",
   "execution_count": 45,
   "id": "ff941922-d813-4eb3-a57c-035022567849",
   "metadata": {},
   "outputs": [
    {
     "name": "stdout",
     "output_type": "stream",
     "text": [
      "The Cessna 172 Skyhawk is an American four-seat, single-engine, high wing, fixed-wing aircraft made by a small company a century later. \" \n",
      " \" how's that? \" \n",
      " he pointed to his right. \" over\n"
     ]
    }
   ],
   "source": [
    "def generate(prompt, generator):\n",
    "    generated_text = generator(prompt, max_length=50)[0]['generated_text']\n",
    "    print(generated_text)\n",
    "\n",
    "prompt = \"The Cessna 172 Skyhawk is an American four-seat, single-engine, high wing, fixed-wing aircraft made by\"\n",
    "\n",
    "generate(prompt, generator_gpt_1)"
   ]
  }
 ],
 "metadata": {
  "kernelspec": {
   "display_name": "Python 3 (ipykernel)",
   "language": "python",
   "name": "python3"
  },
  "language_info": {
   "codemirror_mode": {
    "name": "ipython",
    "version": 3
   },
   "file_extension": ".py",
   "mimetype": "text/x-python",
   "name": "python",
   "nbconvert_exporter": "python",
   "pygments_lexer": "ipython3",
   "version": "3.11.10"
  }
 },
 "nbformat": 4,
 "nbformat_minor": 5
}
